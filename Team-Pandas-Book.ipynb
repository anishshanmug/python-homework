{
 "cells": [
  {
   "cell_type": "code",
   "execution_count": 26,
   "metadata": {},
   "outputs": [],
   "source": [
    "dict = {\"country\": [\"Brazil\", \"Russia\", \"India\", \"China\", \"South Africa\"],\n",
    "       \"capital\": [\"Brasilia\", \"Moscow\", \"New Dehli\", \"Beijing\", \"Pretoria\"],\n",
    "       \"area\": [8.516, 17.10, 3.286, 9.597, 1.221],\n",
    "       \"population\": [200.4, 143.5, 1252, 1357, 52.98] }\n",
    "\n",
    "import pandas as pd\n",
    "brics = pd.DataFrame(dict)\n"
   ]
  },
  {
   "cell_type": "code",
   "execution_count": 27,
   "metadata": {},
   "outputs": [
    {
     "data": {
      "text/html": [
       "<div>\n",
       "<style scoped>\n",
       "    .dataframe tbody tr th:only-of-type {\n",
       "        vertical-align: middle;\n",
       "    }\n",
       "\n",
       "    .dataframe tbody tr th {\n",
       "        vertical-align: top;\n",
       "    }\n",
       "\n",
       "    .dataframe thead th {\n",
       "        text-align: right;\n",
       "    }\n",
       "</style>\n",
       "<table border=\"1\" class=\"dataframe\">\n",
       "  <thead>\n",
       "    <tr style=\"text-align: right;\">\n",
       "      <th></th>\n",
       "      <th>country</th>\n",
       "      <th>capital</th>\n",
       "      <th>area</th>\n",
       "      <th>population</th>\n",
       "    </tr>\n",
       "  </thead>\n",
       "  <tbody>\n",
       "    <tr>\n",
       "      <td>0</td>\n",
       "      <td>Brazil</td>\n",
       "      <td>Brasilia</td>\n",
       "      <td>8.516</td>\n",
       "      <td>200.40</td>\n",
       "    </tr>\n",
       "    <tr>\n",
       "      <td>1</td>\n",
       "      <td>Russia</td>\n",
       "      <td>Moscow</td>\n",
       "      <td>17.100</td>\n",
       "      <td>143.50</td>\n",
       "    </tr>\n",
       "    <tr>\n",
       "      <td>2</td>\n",
       "      <td>India</td>\n",
       "      <td>New Dehli</td>\n",
       "      <td>3.286</td>\n",
       "      <td>1252.00</td>\n",
       "    </tr>\n",
       "    <tr>\n",
       "      <td>3</td>\n",
       "      <td>China</td>\n",
       "      <td>Beijing</td>\n",
       "      <td>9.597</td>\n",
       "      <td>1357.00</td>\n",
       "    </tr>\n",
       "    <tr>\n",
       "      <td>4</td>\n",
       "      <td>South Africa</td>\n",
       "      <td>Pretoria</td>\n",
       "      <td>1.221</td>\n",
       "      <td>52.98</td>\n",
       "    </tr>\n",
       "  </tbody>\n",
       "</table>\n",
       "</div>"
      ],
      "text/plain": [
       "        country    capital    area  population\n",
       "0        Brazil   Brasilia   8.516      200.40\n",
       "1        Russia     Moscow  17.100      143.50\n",
       "2         India  New Dehli   3.286     1252.00\n",
       "3         China    Beijing   9.597     1357.00\n",
       "4  South Africa   Pretoria   1.221       52.98"
      ]
     },
     "execution_count": 27,
     "metadata": {},
     "output_type": "execute_result"
    }
   ],
   "source": [
    "brics"
   ]
  },
  {
   "cell_type": "code",
   "execution_count": 5,
   "metadata": {},
   "outputs": [
    {
     "data": {
      "text/plain": [
       "(5, 4)"
      ]
     },
     "execution_count": 5,
     "metadata": {},
     "output_type": "execute_result"
    }
   ],
   "source": [
    "brics.shape"
   ]
  },
  {
   "cell_type": "code",
   "execution_count": 7,
   "metadata": {},
   "outputs": [],
   "source": [
    "# Set the index for brics\n",
    "brics.index = [\"BR\", \"RU\", \"IN\", \"CH\", \"SA\"]\n"
   ]
  },
  {
   "cell_type": "code",
   "execution_count": 8,
   "metadata": {},
   "outputs": [
    {
     "data": {
      "text/html": [
       "<div>\n",
       "<style scoped>\n",
       "    .dataframe tbody tr th:only-of-type {\n",
       "        vertical-align: middle;\n",
       "    }\n",
       "\n",
       "    .dataframe tbody tr th {\n",
       "        vertical-align: top;\n",
       "    }\n",
       "\n",
       "    .dataframe thead th {\n",
       "        text-align: right;\n",
       "    }\n",
       "</style>\n",
       "<table border=\"1\" class=\"dataframe\">\n",
       "  <thead>\n",
       "    <tr style=\"text-align: right;\">\n",
       "      <th></th>\n",
       "      <th>country</th>\n",
       "      <th>capital</th>\n",
       "      <th>area</th>\n",
       "      <th>population</th>\n",
       "    </tr>\n",
       "  </thead>\n",
       "  <tbody>\n",
       "    <tr>\n",
       "      <td>BR</td>\n",
       "      <td>Brazil</td>\n",
       "      <td>Brasilia</td>\n",
       "      <td>8.516</td>\n",
       "      <td>200.40</td>\n",
       "    </tr>\n",
       "    <tr>\n",
       "      <td>RU</td>\n",
       "      <td>Russia</td>\n",
       "      <td>Moscow</td>\n",
       "      <td>17.100</td>\n",
       "      <td>143.50</td>\n",
       "    </tr>\n",
       "    <tr>\n",
       "      <td>IN</td>\n",
       "      <td>India</td>\n",
       "      <td>New Dehli</td>\n",
       "      <td>3.286</td>\n",
       "      <td>1252.00</td>\n",
       "    </tr>\n",
       "    <tr>\n",
       "      <td>CH</td>\n",
       "      <td>China</td>\n",
       "      <td>Beijing</td>\n",
       "      <td>9.597</td>\n",
       "      <td>1357.00</td>\n",
       "    </tr>\n",
       "    <tr>\n",
       "      <td>SA</td>\n",
       "      <td>South Africa</td>\n",
       "      <td>Pretoria</td>\n",
       "      <td>1.221</td>\n",
       "      <td>52.98</td>\n",
       "    </tr>\n",
       "  </tbody>\n",
       "</table>\n",
       "</div>"
      ],
      "text/plain": [
       "         country    capital    area  population\n",
       "BR        Brazil   Brasilia   8.516      200.40\n",
       "RU        Russia     Moscow  17.100      143.50\n",
       "IN         India  New Dehli   3.286     1252.00\n",
       "CH         China    Beijing   9.597     1357.00\n",
       "SA  South Africa   Pretoria   1.221       52.98"
      ]
     },
     "execution_count": 8,
     "metadata": {},
     "output_type": "execute_result"
    }
   ],
   "source": [
    "brics"
   ]
  },
  {
   "cell_type": "code",
   "execution_count": 10,
   "metadata": {},
   "outputs": [
    {
     "data": {
      "text/plain": [
       "'/Users/premrajrengaram'"
      ]
     },
     "execution_count": 10,
     "metadata": {},
     "output_type": "execute_result"
    }
   ],
   "source": [
    "pwd\n"
   ]
  },
  {
   "cell_type": "code",
   "execution_count": 11,
   "metadata": {},
   "outputs": [],
   "source": [
    "brics.to_csv('countries.csv')"
   ]
  },
  {
   "cell_type": "code",
   "execution_count": 28,
   "metadata": {},
   "outputs": [
    {
     "name": "stdout",
     "output_type": "stream",
     "text": [
      "total 80\n",
      "drwxr-xr-x+  4 premrajrengaram  staff    128 Feb 20 21:25 \u001b[34mPublic\u001b[m\u001b[m/\n",
      "drwx------@  3 premrajrengaram  staff     96 Feb 20 21:34 \u001b[34mApplications\u001b[m\u001b[m/\n",
      "drwxr-xr-x   3 premrajrengaram  staff     96 Feb 23 18:18 \u001b[34mopt\u001b[m\u001b[m/\n",
      "drwx------+  4 premrajrengaram  staff    128 Feb 24 10:24 \u001b[34mPictures\u001b[m\u001b[m/\n",
      "drwx------+  4 premrajrengaram  staff    128 Feb 24 10:28 \u001b[34mMovies\u001b[m\u001b[m/\n",
      "-rw-r--r--   1 premrajrengaram  staff     72 Feb 26 12:12 Untitled.ipynb\n",
      "drwxr-xr-x   4 premrajrengaram  staff    128 Feb 26 18:47 \u001b[34mnltk_data\u001b[m\u001b[m/\n",
      "-rw-r--r--   1 premrajrengaram  staff     72 Feb 28 10:40 Untitled1.ipynb\n",
      "drwxr-xr-x   3 premrajrengaram  staff     96 Feb 28 20:02 \u001b[34mscikit_learn_data\u001b[m\u001b[m/\n",
      "drwx------+  4 premrajrengaram  staff    128 Mar  4 07:40 \u001b[34mMusic\u001b[m\u001b[m/\n",
      "drwx------@ 69 premrajrengaram  staff   2208 Mar 17 22:09 \u001b[34mLibrary\u001b[m\u001b[m/\n",
      "drwxr-xr-x   3 premrajrengaram  staff     96 Mar 19 16:07 \u001b[34mSamsung\u001b[m\u001b[m/\n",
      "-rw-r--r--   1 premrajrengaram  staff   1275 Apr  5 18:48 MachineLearning.ipynb\n",
      "drwx------+  6 premrajrengaram  staff    192 Apr 10 10:56 \u001b[34mDocuments\u001b[m\u001b[m/\n",
      "drwx------@ 44 premrajrengaram  staff   1408 May  3 10:32 \u001b[34mDownloads\u001b[m\u001b[m/\n",
      "-rw-r--r--   1 premrajrengaram  staff    191 May  3 16:45 countries.csv\n",
      "-rw-r--r--   1 premrajrengaram  staff   7915 May  3 16:45 Untitled2.ipynb\n",
      "drwx------@ 32 premrajrengaram  staff   1024 May  3 17:10 \u001b[34mDesktop\u001b[m\u001b[m/\n",
      "-rw-r--r--   1 premrajrengaram  staff  15290 May  3 18:15 Team-Pandas-Book.ipynb\n"
     ]
    }
   ],
   "source": [
    "ls -ltr\n"
   ]
  },
  {
   "cell_type": "code",
   "execution_count": 32,
   "metadata": {},
   "outputs": [
    {
     "name": "stdout",
     "output_type": "stream",
     "text": [
      "<class 'pandas.core.frame.DataFrame'>\n",
      "  Unnamed: 0       country    capital    area  population currency\n",
      "0         BR        Brazil   Brasilia   8.516      200.40      BBB\n",
      "1         RU        Russia     Moscow  17.100      143.50      RBL\n",
      "2         IN         India  New Dehli   3.286     1252.00      INR\n",
      "3         CH         China    Beijing   9.597     1357.00      YEN\n",
      "4         SA  South Africa   Pretoria   1.221       52.98      RND\n"
     ]
    }
   ],
   "source": [
    "\n",
    "# Import \n",
    "countries = pd.read_csv('countries.csv')\n",
    "print(type(countries))\n",
    "# Print out \n",
    "print(countries)"
   ]
  },
  {
   "cell_type": "code",
   "execution_count": 33,
   "metadata": {},
   "outputs": [],
   "source": [
    "countries_no_idx = pd.read_csv('countries.csv',index_col=0)"
   ]
  },
  {
   "cell_type": "code",
   "execution_count": 34,
   "metadata": {},
   "outputs": [
    {
     "data": {
      "text/plain": [
       "pandas.core.frame.DataFrame"
      ]
     },
     "execution_count": 34,
     "metadata": {},
     "output_type": "execute_result"
    }
   ],
   "source": [
    "type(countries_no_idx)"
   ]
  },
  {
   "cell_type": "code",
   "execution_count": 17,
   "metadata": {},
   "outputs": [
    {
     "data": {
      "text/html": [
       "<div>\n",
       "<style scoped>\n",
       "    .dataframe tbody tr th:only-of-type {\n",
       "        vertical-align: middle;\n",
       "    }\n",
       "\n",
       "    .dataframe tbody tr th {\n",
       "        vertical-align: top;\n",
       "    }\n",
       "\n",
       "    .dataframe thead th {\n",
       "        text-align: right;\n",
       "    }\n",
       "</style>\n",
       "<table border=\"1\" class=\"dataframe\">\n",
       "  <thead>\n",
       "    <tr style=\"text-align: right;\">\n",
       "      <th></th>\n",
       "      <th>country</th>\n",
       "      <th>capital</th>\n",
       "      <th>area</th>\n",
       "      <th>population</th>\n",
       "    </tr>\n",
       "  </thead>\n",
       "  <tbody>\n",
       "    <tr>\n",
       "      <td>BR</td>\n",
       "      <td>Brazil</td>\n",
       "      <td>Brasilia</td>\n",
       "      <td>8.516</td>\n",
       "      <td>200.40</td>\n",
       "    </tr>\n",
       "    <tr>\n",
       "      <td>RU</td>\n",
       "      <td>Russia</td>\n",
       "      <td>Moscow</td>\n",
       "      <td>17.100</td>\n",
       "      <td>143.50</td>\n",
       "    </tr>\n",
       "    <tr>\n",
       "      <td>IN</td>\n",
       "      <td>India</td>\n",
       "      <td>New Dehli</td>\n",
       "      <td>3.286</td>\n",
       "      <td>1252.00</td>\n",
       "    </tr>\n",
       "    <tr>\n",
       "      <td>CH</td>\n",
       "      <td>China</td>\n",
       "      <td>Beijing</td>\n",
       "      <td>9.597</td>\n",
       "      <td>1357.00</td>\n",
       "    </tr>\n",
       "    <tr>\n",
       "      <td>SA</td>\n",
       "      <td>South Africa</td>\n",
       "      <td>Pretoria</td>\n",
       "      <td>1.221</td>\n",
       "      <td>52.98</td>\n",
       "    </tr>\n",
       "  </tbody>\n",
       "</table>\n",
       "</div>"
      ],
      "text/plain": [
       "         country    capital    area  population\n",
       "BR        Brazil   Brasilia   8.516      200.40\n",
       "RU        Russia     Moscow  17.100      143.50\n",
       "IN         India  New Dehli   3.286     1252.00\n",
       "CH         China    Beijing   9.597     1357.00\n",
       "SA  South Africa   Pretoria   1.221       52.98"
      ]
     },
     "execution_count": 17,
     "metadata": {},
     "output_type": "execute_result"
    }
   ],
   "source": [
    "countries_no_idx"
   ]
  },
  {
   "cell_type": "code",
   "execution_count": 18,
   "metadata": {},
   "outputs": [
    {
     "name": "stdout",
     "output_type": "stream",
     "text": [
      "total 72\r\n",
      "drwxr-xr-x+  4 premrajrengaram  staff    128 Feb 20 21:25 \u001b[34mPublic\u001b[m\u001b[m/\r\n",
      "drwx------@  3 premrajrengaram  staff     96 Feb 20 21:34 \u001b[34mApplications\u001b[m\u001b[m/\r\n",
      "drwxr-xr-x   3 premrajrengaram  staff     96 Feb 23 18:18 \u001b[34mopt\u001b[m\u001b[m/\r\n",
      "drwx------+  4 premrajrengaram  staff    128 Feb 24 10:24 \u001b[34mPictures\u001b[m\u001b[m/\r\n",
      "drwx------+  4 premrajrengaram  staff    128 Feb 24 10:28 \u001b[34mMovies\u001b[m\u001b[m/\r\n",
      "-rw-r--r--   1 premrajrengaram  staff     72 Feb 26 12:12 Untitled.ipynb\r\n",
      "drwxr-xr-x   4 premrajrengaram  staff    128 Feb 26 18:47 \u001b[34mnltk_data\u001b[m\u001b[m/\r\n",
      "-rw-r--r--   1 premrajrengaram  staff     72 Feb 28 10:40 Untitled1.ipynb\r\n",
      "drwxr-xr-x   3 premrajrengaram  staff     96 Feb 28 20:02 \u001b[34mscikit_learn_data\u001b[m\u001b[m/\r\n",
      "drwx------+  4 premrajrengaram  staff    128 Mar  4 07:40 \u001b[34mMusic\u001b[m\u001b[m/\r\n",
      "drwx------@ 69 premrajrengaram  staff   2208 Mar 17 22:09 \u001b[34mLibrary\u001b[m\u001b[m/\r\n",
      "drwxr-xr-x   3 premrajrengaram  staff     96 Mar 19 16:07 \u001b[34mSamsung\u001b[m\u001b[m/\r\n",
      "-rw-r--r--   1 premrajrengaram  staff   1275 Apr  5 18:48 MachineLearning.ipynb\r\n",
      "drwx------+  6 premrajrengaram  staff    192 Apr 10 10:56 \u001b[34mDocuments\u001b[m\u001b[m/\r\n",
      "drwx------@ 31 premrajrengaram  staff    992 May  1 21:23 \u001b[34mDesktop\u001b[m\u001b[m/\r\n",
      "drwx------@ 44 premrajrengaram  staff   1408 May  3 10:32 \u001b[34mDownloads\u001b[m\u001b[m/\r\n",
      "-rw-r--r--   1 premrajrengaram  staff    191 May  3 16:45 countries.csv\r\n",
      "-rw-r--r--   1 premrajrengaram  staff   7915 May  3 16:45 Untitled2.ipynb\r\n",
      "-rw-r--r--   1 premrajrengaram  staff  10655 May  3 16:56 Team-Pandas-Book.ipynb\r\n"
     ]
    }
   ],
   "source": [
    "ls -ltr\n"
   ]
  },
  {
   "cell_type": "code",
   "execution_count": 38,
   "metadata": {},
   "outputs": [
    {
     "name": "stdout",
     "output_type": "stream",
     "text": [
      "Russia\n"
     ]
    }
   ],
   "source": [
    "print(countries_no_idx['country'][1])"
   ]
  },
  {
   "cell_type": "code",
   "execution_count": 39,
   "metadata": {},
   "outputs": [
    {
     "data": {
      "text/html": [
       "<div>\n",
       "<style scoped>\n",
       "    .dataframe tbody tr th:only-of-type {\n",
       "        vertical-align: middle;\n",
       "    }\n",
       "\n",
       "    .dataframe tbody tr th {\n",
       "        vertical-align: top;\n",
       "    }\n",
       "\n",
       "    .dataframe thead th {\n",
       "        text-align: right;\n",
       "    }\n",
       "</style>\n",
       "<table border=\"1\" class=\"dataframe\">\n",
       "  <thead>\n",
       "    <tr style=\"text-align: right;\">\n",
       "      <th></th>\n",
       "      <th>country</th>\n",
       "      <th>capital</th>\n",
       "      <th>area</th>\n",
       "      <th>population</th>\n",
       "      <th>currency</th>\n",
       "    </tr>\n",
       "  </thead>\n",
       "  <tbody>\n",
       "    <tr>\n",
       "      <td>BR</td>\n",
       "      <td>Brazil</td>\n",
       "      <td>Brasilia</td>\n",
       "      <td>8.516</td>\n",
       "      <td>200.40</td>\n",
       "      <td>BBB</td>\n",
       "    </tr>\n",
       "    <tr>\n",
       "      <td>RU</td>\n",
       "      <td>Russia</td>\n",
       "      <td>Moscow</td>\n",
       "      <td>17.100</td>\n",
       "      <td>143.50</td>\n",
       "      <td>RBL</td>\n",
       "    </tr>\n",
       "    <tr>\n",
       "      <td>IN</td>\n",
       "      <td>India</td>\n",
       "      <td>New Dehli</td>\n",
       "      <td>3.286</td>\n",
       "      <td>1252.00</td>\n",
       "      <td>INR</td>\n",
       "    </tr>\n",
       "    <tr>\n",
       "      <td>CH</td>\n",
       "      <td>China</td>\n",
       "      <td>Beijing</td>\n",
       "      <td>9.597</td>\n",
       "      <td>1357.00</td>\n",
       "      <td>YEN</td>\n",
       "    </tr>\n",
       "    <tr>\n",
       "      <td>SA</td>\n",
       "      <td>South Africa</td>\n",
       "      <td>Pretoria</td>\n",
       "      <td>1.221</td>\n",
       "      <td>52.98</td>\n",
       "      <td>RND</td>\n",
       "    </tr>\n",
       "  </tbody>\n",
       "</table>\n",
       "</div>"
      ],
      "text/plain": [
       "         country    capital    area  population currency\n",
       "BR        Brazil   Brasilia   8.516      200.40      BBB\n",
       "RU        Russia     Moscow  17.100      143.50      RBL\n",
       "IN         India  New Dehli   3.286     1252.00      INR\n",
       "CH         China    Beijing   9.597     1357.00      YEN\n",
       "SA  South Africa   Pretoria   1.221       52.98      RND"
      ]
     },
     "execution_count": 39,
     "metadata": {},
     "output_type": "execute_result"
    }
   ],
   "source": [
    "countries_no_idx"
   ]
  },
  {
   "cell_type": "code",
   "execution_count": 45,
   "metadata": {},
   "outputs": [
    {
     "name": "stdout",
     "output_type": "stream",
     "text": [
      "         country   capital   area  population currency\n",
      "SA  South Africa  Pretoria  1.221       52.98      RND\n"
     ]
    }
   ],
   "source": [
    "print(countries_no_idx[-1:])"
   ]
  },
  {
   "cell_type": "code",
   "execution_count": 20,
   "metadata": {},
   "outputs": [
    {
     "name": "stdout",
     "output_type": "stream",
     "text": [
      "BR          Brazil\n",
      "RU          Russia\n",
      "IN           India\n",
      "CH           China\n",
      "SA    South Africa\n",
      "Name: country, dtype: object\n",
      "      area\n",
      "BR   8.516\n",
      "RU  17.100\n",
      "IN   3.286\n",
      "CH   9.597\n",
      "SA   1.221\n",
      "         country    area\n",
      "BR        Brazil   8.516\n",
      "RU        Russia  17.100\n",
      "IN         India   3.286\n",
      "CH         China   9.597\n",
      "SA  South Africa   1.221\n"
     ]
    }
   ],
   "source": [
    "\n",
    "# Print out country column as Pandas Series\n",
    "print(countries_no_idx['country'])\n",
    "\n",
    "# Print out country column as Pandas DataFrame\n",
    "print(countries_no_idx[['area']])\n",
    "\n",
    "# Print out DataFrame with country and drives_right columns\n",
    "print(countries_no_idx[['country', 'area']])"
   ]
  },
  {
   "cell_type": "code",
   "execution_count": 21,
   "metadata": {},
   "outputs": [
    {
     "name": "stdout",
     "output_type": "stream",
     "text": [
      "   country   capital    area  population\n",
      "BR  Brazil  Brasilia   8.516       200.4\n",
      "RU  Russia    Moscow  17.100       143.5\n",
      "   country    capital   area  population\n",
      "IN   India  New Dehli  3.286      1252.0\n"
     ]
    }
   ],
   "source": [
    "# Print out first 4 observations\n",
    "print(countries_no_idx[0:2])\n",
    "\n",
    "# Print out fifth and sixth observation\n",
    "print(countries_no_idx[2:3])"
   ]
  },
  {
   "cell_type": "code",
   "execution_count": 46,
   "metadata": {},
   "outputs": [
    {
     "name": "stdout",
     "output_type": "stream",
     "text": [
      "country           India\n",
      "capital       New Dehli\n",
      "area              3.286\n",
      "population         1252\n",
      "currency            INR\n",
      "Name: IN, dtype: object\n",
      "   country  capital    area  population currency\n",
      "RU  Russia   Moscow  17.100       143.5      RBL\n",
      "CH   China  Beijing   9.597      1357.0      YEN\n"
     ]
    }
   ],
   "source": [
    "# Print out observation \n",
    "print(countries_no_idx.iloc[2])\n",
    "\n",
    "# Print out observations\n",
    "print(countries_no_idx.loc[['RU', 'CH']])"
   ]
  },
  {
   "cell_type": "code",
   "execution_count": null,
   "metadata": {},
   "outputs": [],
   "source": []
  }
 ],
 "metadata": {
  "kernelspec": {
   "display_name": "Python 3",
   "language": "python",
   "name": "python3"
  },
  "language_info": {
   "codemirror_mode": {
    "name": "ipython",
    "version": 3
   },
   "file_extension": ".py",
   "mimetype": "text/x-python",
   "name": "python",
   "nbconvert_exporter": "python",
   "pygments_lexer": "ipython3",
   "version": "3.7.4"
  }
 },
 "nbformat": 4,
 "nbformat_minor": 2
}
