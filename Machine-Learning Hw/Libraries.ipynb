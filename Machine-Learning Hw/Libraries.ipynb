{
 "cells": [
  {
   "cell_type": "code",
   "execution_count": 1,
   "metadata": {},
   "outputs": [],
   "source": [
    "import pandas as pd"
   ]
  },
  {
   "cell_type": "code",
   "execution_count": 2,
   "metadata": {},
   "outputs": [],
   "source": [
    "import numpy as np"
   ]
  },
  {
   "cell_type": "code",
   "execution_count": 3,
   "metadata": {},
   "outputs": [],
   "source": [
    "import scipy as sp"
   ]
  },
  {
   "cell_type": "code",
   "execution_count": 4,
   "metadata": {},
   "outputs": [],
   "source": [
    "data=pd.read_csv(\"Seasons_Stats.csv\")"
   ]
  },
  {
   "cell_type": "code",
   "execution_count": 5,
   "metadata": {},
   "outputs": [
    {
     "name": "stdout",
     "output_type": "stream",
     "text": [
      "       Unnamed: 0    Year             Player  Pos   Age   Tm     G    GS  \\\n",
      "0               0  1950.0    Curly Armstrong  G-F  31.0  FTW  63.0   NaN   \n",
      "1               1  1950.0       Cliff Barker   SG  29.0  INO  49.0   NaN   \n",
      "2               2  1950.0      Leo Barnhorst   SF  25.0  CHS  67.0   NaN   \n",
      "3               3  1950.0         Ed Bartels    F  24.0  TOT  15.0   NaN   \n",
      "4               4  1950.0         Ed Bartels    F  24.0  DNN  13.0   NaN   \n",
      "...           ...     ...                ...  ...   ...  ...   ...   ...   \n",
      "24686       24686  2017.0        Cody Zeller   PF  24.0  CHO  62.0  58.0   \n",
      "24687       24687  2017.0       Tyler Zeller    C  27.0  BOS  51.0   5.0   \n",
      "24688       24688  2017.0  Stephen Zimmerman    C  20.0  ORL  19.0   0.0   \n",
      "24689       24689  2017.0        Paul Zipser   SF  22.0  CHI  44.0  18.0   \n",
      "24690       24690  2017.0        Ivica Zubac    C  19.0  LAL  38.0  11.0   \n",
      "\n",
      "           MP   PER  ...    FT%    ORB    DRB    TRB    AST   STL   BLK   TOV  \\\n",
      "0         NaN   NaN  ...  0.705    NaN    NaN    NaN  176.0   NaN   NaN   NaN   \n",
      "1         NaN   NaN  ...  0.708    NaN    NaN    NaN  109.0   NaN   NaN   NaN   \n",
      "2         NaN   NaN  ...  0.698    NaN    NaN    NaN  140.0   NaN   NaN   NaN   \n",
      "3         NaN   NaN  ...  0.559    NaN    NaN    NaN   20.0   NaN   NaN   NaN   \n",
      "4         NaN   NaN  ...  0.548    NaN    NaN    NaN   20.0   NaN   NaN   NaN   \n",
      "...       ...   ...  ...    ...    ...    ...    ...    ...   ...   ...   ...   \n",
      "24686  1725.0  16.7  ...  0.679  135.0  270.0  405.0   99.0  62.0  58.0  65.0   \n",
      "24687   525.0  13.0  ...  0.564   43.0   81.0  124.0   42.0   7.0  21.0  20.0   \n",
      "24688   108.0   7.3  ...  0.600   11.0   24.0   35.0    4.0   2.0   5.0   3.0   \n",
      "24689   843.0   6.9  ...  0.775   15.0  110.0  125.0   36.0  15.0  16.0  40.0   \n",
      "24690   609.0  17.0  ...  0.653   41.0  118.0  159.0   30.0  14.0  33.0  30.0   \n",
      "\n",
      "          PF    PTS  \n",
      "0      217.0  458.0  \n",
      "1       99.0  279.0  \n",
      "2      192.0  438.0  \n",
      "3       29.0   63.0  \n",
      "4       27.0   59.0  \n",
      "...      ...    ...  \n",
      "24686  189.0  639.0  \n",
      "24687   61.0  178.0  \n",
      "24688   17.0   23.0  \n",
      "24689   78.0  240.0  \n",
      "24690   66.0  284.0  \n",
      "\n",
      "[24691 rows x 53 columns]\n"
     ]
    }
   ],
   "source": [
    "print(data)"
   ]
  },
  {
   "cell_type": "code",
   "execution_count": 6,
   "metadata": {},
   "outputs": [],
   "source": [
    "array=np.array([[1,4,6],[8,9,20]])"
   ]
  },
  {
   "cell_type": "code",
   "execution_count": 7,
   "metadata": {},
   "outputs": [
    {
     "name": "stdout",
     "output_type": "stream",
     "text": [
      "[[ 1  4  6]\n",
      " [ 8  9 20]]\n"
     ]
    }
   ],
   "source": [
    "print(array)"
   ]
  },
  {
   "cell_type": "code",
   "execution_count": 8,
   "metadata": {},
   "outputs": [
    {
     "name": "stdout",
     "output_type": "stream",
     "text": [
      "the array's shape is :  (2, 3)\n"
     ]
    }
   ],
   "source": [
    "print(\"the array's shape is : \", array.shape)"
   ]
  },
  {
   "cell_type": "code",
   "execution_count": 9,
   "metadata": {},
   "outputs": [
    {
     "name": "stdout",
     "output_type": "stream",
     "text": [
      "the array's size is :  6\n"
     ]
    }
   ],
   "source": [
    "print(\"the array's size is : \", array.size)"
   ]
  },
  {
   "cell_type": "code",
   "execution_count": null,
   "metadata": {},
   "outputs": [],
   "source": []
  }
 ],
 "metadata": {
  "kernelspec": {
   "display_name": "Python 3",
   "language": "python",
   "name": "python3"
  },
  "language_info": {
   "codemirror_mode": {
    "name": "ipython",
    "version": 3
   },
   "file_extension": ".py",
   "mimetype": "text/x-python",
   "name": "python",
   "nbconvert_exporter": "python",
   "pygments_lexer": "ipython3",
   "version": "3.7.6"
  }
 },
 "nbformat": 4,
 "nbformat_minor": 4
}
